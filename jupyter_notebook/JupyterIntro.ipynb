{
 "cells": [
  {
   "cell_type": "code",
   "execution_count": 192,
   "metadata": {},
   "outputs": [],
   "source": [
    "%matplotlib inline\n",
    "import matplotlib.pyplot as plt\n",
    "import numpy as np\n",
    "import pandas as pd\n",
    "from sklearn.model_selection import train_test_split\n",
    "from sklearn.preprocessing import StandardScaler, LabelEncoder\n",
    "from sklearn.ensemble import RandomForestClassifier"
   ]
  },
  {
   "cell_type": "code",
   "execution_count": 193,
   "metadata": {},
   "outputs": [],
   "source": [
    "# file path variables\n",
    "pitching_data = '../Data/Pitching_Data.csv'\n",
    "hitting_data = '../Data/Hitting_Data.csv'"
   ]
  },
  {
   "cell_type": "code",
   "execution_count": 194,
   "metadata": {},
   "outputs": [],
   "source": [
    "# read csv\n",
    "pitching_data_df = pd.read_csv(pitching_data, encoding=\"ISO-8859-1\")\n",
    "hitting_data_df = pd.read_csv(hitting_data, encoding=\"ISO-8859-1\")"
   ]
  },
  {
   "cell_type": "code",
   "execution_count": 195,
   "metadata": {},
   "outputs": [
    {
     "data": {
      "text/html": [
       "<div>\n",
       "<style scoped>\n",
       "    .dataframe tbody tr th:only-of-type {\n",
       "        vertical-align: middle;\n",
       "    }\n",
       "\n",
       "    .dataframe tbody tr th {\n",
       "        vertical-align: top;\n",
       "    }\n",
       "\n",
       "    .dataframe thead th {\n",
       "        text-align: right;\n",
       "    }\n",
       "</style>\n",
       "<table border=\"1\" class=\"dataframe\">\n",
       "  <thead>\n",
       "    <tr style=\"text-align: right;\">\n",
       "      <th></th>\n",
       "      <th>Year</th>\n",
       "      <th>Team</th>\n",
       "      <th>W</th>\n",
       "      <th>L</th>\n",
       "      <th>ERA</th>\n",
       "      <th>Hits Allowed</th>\n",
       "      <th>SO</th>\n",
       "      <th>Champion</th>\n",
       "    </tr>\n",
       "  </thead>\n",
       "  <tbody>\n",
       "    <tr>\n",
       "      <th>0</th>\n",
       "      <td>2019</td>\n",
       "      <td>Dodgers</td>\n",
       "      <td>106</td>\n",
       "      <td>56</td>\n",
       "      <td>3.39</td>\n",
       "      <td>1201</td>\n",
       "      <td>1519</td>\n",
       "      <td>0</td>\n",
       "    </tr>\n",
       "    <tr>\n",
       "      <th>1</th>\n",
       "      <td>2019</td>\n",
       "      <td>Astros</td>\n",
       "      <td>107</td>\n",
       "      <td>55</td>\n",
       "      <td>3.66</td>\n",
       "      <td>1205</td>\n",
       "      <td>1671</td>\n",
       "      <td>0</td>\n",
       "    </tr>\n",
       "    <tr>\n",
       "      <th>2</th>\n",
       "      <td>2019</td>\n",
       "      <td>Rays</td>\n",
       "      <td>96</td>\n",
       "      <td>66</td>\n",
       "      <td>3.67</td>\n",
       "      <td>1274</td>\n",
       "      <td>1621</td>\n",
       "      <td>0</td>\n",
       "    </tr>\n",
       "    <tr>\n",
       "      <th>3</th>\n",
       "      <td>2019</td>\n",
       "      <td>Indians</td>\n",
       "      <td>93</td>\n",
       "      <td>69</td>\n",
       "      <td>3.79</td>\n",
       "      <td>1308</td>\n",
       "      <td>1508</td>\n",
       "      <td>0</td>\n",
       "    </tr>\n",
       "    <tr>\n",
       "      <th>4</th>\n",
       "      <td>2019</td>\n",
       "      <td>Cardinals</td>\n",
       "      <td>91</td>\n",
       "      <td>71</td>\n",
       "      <td>3.82</td>\n",
       "      <td>1284</td>\n",
       "      <td>1399</td>\n",
       "      <td>0</td>\n",
       "    </tr>\n",
       "  </tbody>\n",
       "</table>\n",
       "</div>"
      ],
      "text/plain": [
       "   Year       Team    W   L   ERA  Hits Allowed    SO  Champion\n",
       "0  2019    Dodgers  106  56  3.39          1201  1519         0\n",
       "1  2019     Astros  107  55  3.66          1205  1671         0\n",
       "2  2019       Rays   96  66  3.67          1274  1621         0\n",
       "3  2019    Indians   93  69  3.79          1308  1508         0\n",
       "4  2019  Cardinals   91  71  3.82          1284  1399         0"
      ]
     },
     "execution_count": 195,
     "metadata": {},
     "output_type": "execute_result"
    }
   ],
   "source": [
    "pitching_data_df.head()"
   ]
  },
  {
   "cell_type": "code",
   "execution_count": 196,
   "metadata": {
    "scrolled": false
   },
   "outputs": [
    {
     "data": {
      "text/html": [
       "<div>\n",
       "<style scoped>\n",
       "    .dataframe tbody tr th:only-of-type {\n",
       "        vertical-align: middle;\n",
       "    }\n",
       "\n",
       "    .dataframe tbody tr th {\n",
       "        vertical-align: top;\n",
       "    }\n",
       "\n",
       "    .dataframe thead th {\n",
       "        text-align: right;\n",
       "    }\n",
       "</style>\n",
       "<table border=\"1\" class=\"dataframe\">\n",
       "  <thead>\n",
       "    <tr style=\"text-align: right;\">\n",
       "      <th></th>\n",
       "      <th>Year</th>\n",
       "      <th>Team</th>\n",
       "      <th>HR</th>\n",
       "      <th>SO</th>\n",
       "      <th>AVG</th>\n",
       "    </tr>\n",
       "  </thead>\n",
       "  <tbody>\n",
       "    <tr>\n",
       "      <th>0</th>\n",
       "      <td>2019</td>\n",
       "      <td>Astros</td>\n",
       "      <td>288</td>\n",
       "      <td>1166</td>\n",
       "      <td>0.274</td>\n",
       "    </tr>\n",
       "    <tr>\n",
       "      <th>1</th>\n",
       "      <td>2019</td>\n",
       "      <td>Twins</td>\n",
       "      <td>307</td>\n",
       "      <td>1334</td>\n",
       "      <td>0.270</td>\n",
       "    </tr>\n",
       "    <tr>\n",
       "      <th>2</th>\n",
       "      <td>2019</td>\n",
       "      <td>Red Sox</td>\n",
       "      <td>245</td>\n",
       "      <td>1382</td>\n",
       "      <td>0.250</td>\n",
       "    </tr>\n",
       "    <tr>\n",
       "      <th>3</th>\n",
       "      <td>2019</td>\n",
       "      <td>Yankees</td>\n",
       "      <td>306</td>\n",
       "      <td>1437</td>\n",
       "      <td>0.240</td>\n",
       "    </tr>\n",
       "    <tr>\n",
       "      <th>4</th>\n",
       "      <td>2019</td>\n",
       "      <td>Rockies</td>\n",
       "      <td>224</td>\n",
       "      <td>1503</td>\n",
       "      <td>0.250</td>\n",
       "    </tr>\n",
       "  </tbody>\n",
       "</table>\n",
       "</div>"
      ],
      "text/plain": [
       "   Year     Team   HR    SO    AVG\n",
       "0  2019   Astros  288  1166  0.274\n",
       "1  2019    Twins  307  1334  0.270\n",
       "2  2019  Red Sox  245  1382  0.250\n",
       "3  2019  Yankees  306  1437  0.240\n",
       "4  2019  Rockies  224  1503  0.250"
      ]
     },
     "execution_count": 196,
     "metadata": {},
     "output_type": "execute_result"
    }
   ],
   "source": [
    "hitting_data_df.head()"
   ]
  },
  {
   "cell_type": "code",
   "execution_count": 197,
   "metadata": {
    "scrolled": true
   },
   "outputs": [
    {
     "data": {
      "text/html": [
       "<div>\n",
       "<style scoped>\n",
       "    .dataframe tbody tr th:only-of-type {\n",
       "        vertical-align: middle;\n",
       "    }\n",
       "\n",
       "    .dataframe tbody tr th {\n",
       "        vertical-align: top;\n",
       "    }\n",
       "\n",
       "    .dataframe thead th {\n",
       "        text-align: right;\n",
       "    }\n",
       "</style>\n",
       "<table border=\"1\" class=\"dataframe\">\n",
       "  <thead>\n",
       "    <tr style=\"text-align: right;\">\n",
       "      <th></th>\n",
       "      <th>Year</th>\n",
       "      <th>Team</th>\n",
       "      <th>Champion</th>\n",
       "    </tr>\n",
       "  </thead>\n",
       "  <tbody>\n",
       "    <tr>\n",
       "      <th>0</th>\n",
       "      <td>2019</td>\n",
       "      <td>Washington Nationals</td>\n",
       "      <td>1</td>\n",
       "    </tr>\n",
       "    <tr>\n",
       "      <th>1</th>\n",
       "      <td>2018</td>\n",
       "      <td>Boston Red Sox</td>\n",
       "      <td>1</td>\n",
       "    </tr>\n",
       "    <tr>\n",
       "      <th>2</th>\n",
       "      <td>2017</td>\n",
       "      <td>Houston Astros</td>\n",
       "      <td>1</td>\n",
       "    </tr>\n",
       "    <tr>\n",
       "      <th>3</th>\n",
       "      <td>2016</td>\n",
       "      <td>Chicago Cubs</td>\n",
       "      <td>1</td>\n",
       "    </tr>\n",
       "    <tr>\n",
       "      <th>4</th>\n",
       "      <td>2015</td>\n",
       "      <td>Kansas City Royals</td>\n",
       "      <td>1</td>\n",
       "    </tr>\n",
       "  </tbody>\n",
       "</table>\n",
       "</div>"
      ],
      "text/plain": [
       "   Year                  Team  Champion\n",
       "0  2019  Washington Nationals         1\n",
       "1  2018        Boston Red Sox         1\n",
       "2  2017        Houston Astros         1\n",
       "3  2016          Chicago Cubs         1\n",
       "4  2015    Kansas City Royals         1"
      ]
     },
     "execution_count": 197,
     "metadata": {},
     "output_type": "execute_result"
    }
   ],
   "source": [
    "world_series_df.head()"
   ]
  },
  {
   "cell_type": "code",
   "execution_count": 198,
   "metadata": {},
   "outputs": [],
   "source": [
    "df_all = pitching_data_df.merge(hitting_data_df, on=['Year','Team'], how='left', suffixes=('_pitching', '_batting'))"
   ]
  },
  {
   "cell_type": "code",
   "execution_count": 199,
   "metadata": {
    "scrolled": true
   },
   "outputs": [
    {
     "data": {
      "text/html": [
       "<div>\n",
       "<style scoped>\n",
       "    .dataframe tbody tr th:only-of-type {\n",
       "        vertical-align: middle;\n",
       "    }\n",
       "\n",
       "    .dataframe tbody tr th {\n",
       "        vertical-align: top;\n",
       "    }\n",
       "\n",
       "    .dataframe thead th {\n",
       "        text-align: right;\n",
       "    }\n",
       "</style>\n",
       "<table border=\"1\" class=\"dataframe\">\n",
       "  <thead>\n",
       "    <tr style=\"text-align: right;\">\n",
       "      <th></th>\n",
       "      <th>Year</th>\n",
       "      <th>Team</th>\n",
       "      <th>W</th>\n",
       "      <th>L</th>\n",
       "      <th>ERA</th>\n",
       "      <th>Hits Allowed</th>\n",
       "      <th>SO_pitching</th>\n",
       "      <th>Champion</th>\n",
       "      <th>HR</th>\n",
       "      <th>SO_batting</th>\n",
       "      <th>AVG</th>\n",
       "    </tr>\n",
       "  </thead>\n",
       "  <tbody>\n",
       "    <tr>\n",
       "      <th>0</th>\n",
       "      <td>2019</td>\n",
       "      <td>Dodgers</td>\n",
       "      <td>106</td>\n",
       "      <td>56</td>\n",
       "      <td>3.39</td>\n",
       "      <td>1201</td>\n",
       "      <td>1519</td>\n",
       "      <td>0</td>\n",
       "      <td>279</td>\n",
       "      <td>1356</td>\n",
       "      <td>0.250</td>\n",
       "    </tr>\n",
       "    <tr>\n",
       "      <th>1</th>\n",
       "      <td>2019</td>\n",
       "      <td>Astros</td>\n",
       "      <td>107</td>\n",
       "      <td>55</td>\n",
       "      <td>3.66</td>\n",
       "      <td>1205</td>\n",
       "      <td>1671</td>\n",
       "      <td>0</td>\n",
       "      <td>288</td>\n",
       "      <td>1166</td>\n",
       "      <td>0.274</td>\n",
       "    </tr>\n",
       "    <tr>\n",
       "      <th>2</th>\n",
       "      <td>2019</td>\n",
       "      <td>Rays</td>\n",
       "      <td>96</td>\n",
       "      <td>66</td>\n",
       "      <td>3.67</td>\n",
       "      <td>1274</td>\n",
       "      <td>1621</td>\n",
       "      <td>0</td>\n",
       "      <td>217</td>\n",
       "      <td>1493</td>\n",
       "      <td>0.240</td>\n",
       "    </tr>\n",
       "    <tr>\n",
       "      <th>3</th>\n",
       "      <td>2019</td>\n",
       "      <td>Indians</td>\n",
       "      <td>93</td>\n",
       "      <td>69</td>\n",
       "      <td>3.79</td>\n",
       "      <td>1308</td>\n",
       "      <td>1508</td>\n",
       "      <td>0</td>\n",
       "      <td>223</td>\n",
       "      <td>1332</td>\n",
       "      <td>0.270</td>\n",
       "    </tr>\n",
       "    <tr>\n",
       "      <th>4</th>\n",
       "      <td>2019</td>\n",
       "      <td>Cardinals</td>\n",
       "      <td>91</td>\n",
       "      <td>71</td>\n",
       "      <td>3.82</td>\n",
       "      <td>1284</td>\n",
       "      <td>1399</td>\n",
       "      <td>0</td>\n",
       "      <td>210</td>\n",
       "      <td>1420</td>\n",
       "      <td>0.270</td>\n",
       "    </tr>\n",
       "  </tbody>\n",
       "</table>\n",
       "</div>"
      ],
      "text/plain": [
       "   Year       Team    W   L   ERA  Hits Allowed  SO_pitching  Champion   HR  \\\n",
       "0  2019    Dodgers  106  56  3.39          1201         1519         0  279   \n",
       "1  2019     Astros  107  55  3.66          1205         1671         0  288   \n",
       "2  2019       Rays   96  66  3.67          1274         1621         0  217   \n",
       "3  2019    Indians   93  69  3.79          1308         1508         0  223   \n",
       "4  2019  Cardinals   91  71  3.82          1284         1399         0  210   \n",
       "\n",
       "   SO_batting    AVG  \n",
       "0        1356  0.250  \n",
       "1        1166  0.274  \n",
       "2        1493  0.240  \n",
       "3        1332  0.270  \n",
       "4        1420  0.270  "
      ]
     },
     "execution_count": 199,
     "metadata": {},
     "output_type": "execute_result"
    }
   ],
   "source": [
    "df_all.head()"
   ]
  },
  {
   "cell_type": "code",
   "execution_count": 200,
   "metadata": {},
   "outputs": [
    {
     "data": {
      "text/plain": [
       "array(['Angels', 'Astros', 'Athletics', 'Blue Jays', 'Braves', 'Brewers',\n",
       "       'Cardinals', 'Cubs', 'Diamondbacks', 'Dodgers', 'Giants',\n",
       "       'Indians', 'Mariners', 'Marlins', 'Mets', 'Nationals', 'Orioles',\n",
       "       'Padres', 'Phillies', 'Pirates', 'Rangers', 'Rays', 'Red Sox',\n",
       "       'Reds', 'Rockies', 'Royals', 'Tigers', 'Twins', 'White Sox',\n",
       "       'Yankees'], dtype=object)"
      ]
     },
     "execution_count": 200,
     "metadata": {},
     "output_type": "execute_result"
    }
   ],
   "source": [
    "label_encoder = LabelEncoder()\n",
    "label_encoder.fit(df_all[\"Team\"])\n",
    "label_encoder.classes_"
   ]
  },
  {
   "cell_type": "code",
   "execution_count": 201,
   "metadata": {},
   "outputs": [],
   "source": [
    "team_id = label_encoder.transform(df_all.Team)"
   ]
  },
  {
   "cell_type": "code",
   "execution_count": 202,
   "metadata": {},
   "outputs": [
    {
     "data": {
      "text/plain": [
       "array([ 9,  1, 21, 11,  6,  2,  7, 23, 27,  4,  8, 14, 15, 29, 10,  5, 18,\n",
       "       17, 22, 13,  3, 28, 12, 20,  0, 19, 25, 26, 24, 16,  1,  9,  7,  8,\n",
       "        5, 21,  4, 22, 11, 29,  2,  6, 10, 19, 15, 14, 12, 18,  0, 24, 17,\n",
       "       27, 26, 23, 13, 28,  3, 20, 25, 16, 11,  9,  8, 22, 29, 15,  7, 21,\n",
       "        5,  6,  1,  0, 19,  3, 12, 10, 24, 18, 27, 25,  2, 17, 20,  4, 28,\n",
       "       13, 16, 14, 23, 26,  7, 15, 14, 10,  9,  3, 11, 12, 22, 13,  1,  6,\n",
       "        5, 28, 29, 21, 25, 16, 19, 26,  0, 20, 17,  4,  2, 18, 23, 24, 27,\n",
       "        8,  6, 19,  7, 14,  9,  1, 15, 11, 10, 25, 21,  3,  0, 28, 29, 13,\n",
       "        8, 16, 27, 17,  2, 12, 20,  5, 22, 23,  4, 26, 18, 24, 15, 12,  2,\n",
       "       17,  4,  9, 16, 19, 14, 10,  6, 25, 21, 11,  0, 23,  5, 29, 13, 18,\n",
       "        7,  3, 22, 26,  1,  8, 28, 20, 27, 24,  4,  9, 19, 23,  6, 25,  2,\n",
       "       15, 26, 20, 13, 21, 14, 22, 11,  5,  8, 29, 17, 28,  7, 10, 16,  0,\n",
       "        3, 12, 18, 24, 27,  1, 21, 15, 23,  9,  4,  2, 10,  6, 12, 26, 29,\n",
       "       18, 16, 19,  8, 17,  0, 20, 28, 14, 13,  5, 25,  7,  1,  3, 22, 27,\n",
       "       11, 24, 18, 10, 17,  4,  9,  0, 15, 21,  5,  2, 29,  6, 20,  8, 12,\n",
       "       13, 26, 19, 28, 23, 14, 22, 11,  3,  7, 24, 25,  1, 27, 16, 10, 17,\n",
       "        4,  6,  2, 18, 14, 21, 20, 12, 27,  9, 23,  0, 29,  1, 13, 28, 15,\n",
       "       24, 22,  3,  7, 26, 11,  5, 16,  8, 25, 19])"
      ]
     },
     "execution_count": 202,
     "metadata": {},
     "output_type": "execute_result"
    }
   ],
   "source": [
    "team_id"
   ]
  },
  {
   "cell_type": "code",
   "execution_count": 203,
   "metadata": {},
   "outputs": [],
   "source": [
    "df_all['Team ID'] = team_id"
   ]
  },
  {
   "cell_type": "code",
   "execution_count": 204,
   "metadata": {},
   "outputs": [
    {
     "data": {
      "text/html": [
       "<div>\n",
       "<style scoped>\n",
       "    .dataframe tbody tr th:only-of-type {\n",
       "        vertical-align: middle;\n",
       "    }\n",
       "\n",
       "    .dataframe tbody tr th {\n",
       "        vertical-align: top;\n",
       "    }\n",
       "\n",
       "    .dataframe thead th {\n",
       "        text-align: right;\n",
       "    }\n",
       "</style>\n",
       "<table border=\"1\" class=\"dataframe\">\n",
       "  <thead>\n",
       "    <tr style=\"text-align: right;\">\n",
       "      <th></th>\n",
       "      <th>Year</th>\n",
       "      <th>Team</th>\n",
       "      <th>W</th>\n",
       "      <th>L</th>\n",
       "      <th>ERA</th>\n",
       "      <th>Hits Allowed</th>\n",
       "      <th>SO_pitching</th>\n",
       "      <th>Champion</th>\n",
       "      <th>HR</th>\n",
       "      <th>SO_batting</th>\n",
       "      <th>AVG</th>\n",
       "      <th>Team ID</th>\n",
       "    </tr>\n",
       "  </thead>\n",
       "  <tbody>\n",
       "    <tr>\n",
       "      <th>0</th>\n",
       "      <td>2019</td>\n",
       "      <td>Dodgers</td>\n",
       "      <td>106</td>\n",
       "      <td>56</td>\n",
       "      <td>3.39</td>\n",
       "      <td>1201</td>\n",
       "      <td>1519</td>\n",
       "      <td>0</td>\n",
       "      <td>279</td>\n",
       "      <td>1356</td>\n",
       "      <td>0.250</td>\n",
       "      <td>9</td>\n",
       "    </tr>\n",
       "    <tr>\n",
       "      <th>1</th>\n",
       "      <td>2019</td>\n",
       "      <td>Astros</td>\n",
       "      <td>107</td>\n",
       "      <td>55</td>\n",
       "      <td>3.66</td>\n",
       "      <td>1205</td>\n",
       "      <td>1671</td>\n",
       "      <td>0</td>\n",
       "      <td>288</td>\n",
       "      <td>1166</td>\n",
       "      <td>0.274</td>\n",
       "      <td>1</td>\n",
       "    </tr>\n",
       "    <tr>\n",
       "      <th>2</th>\n",
       "      <td>2019</td>\n",
       "      <td>Rays</td>\n",
       "      <td>96</td>\n",
       "      <td>66</td>\n",
       "      <td>3.67</td>\n",
       "      <td>1274</td>\n",
       "      <td>1621</td>\n",
       "      <td>0</td>\n",
       "      <td>217</td>\n",
       "      <td>1493</td>\n",
       "      <td>0.240</td>\n",
       "      <td>21</td>\n",
       "    </tr>\n",
       "    <tr>\n",
       "      <th>3</th>\n",
       "      <td>2019</td>\n",
       "      <td>Indians</td>\n",
       "      <td>93</td>\n",
       "      <td>69</td>\n",
       "      <td>3.79</td>\n",
       "      <td>1308</td>\n",
       "      <td>1508</td>\n",
       "      <td>0</td>\n",
       "      <td>223</td>\n",
       "      <td>1332</td>\n",
       "      <td>0.270</td>\n",
       "      <td>11</td>\n",
       "    </tr>\n",
       "    <tr>\n",
       "      <th>4</th>\n",
       "      <td>2019</td>\n",
       "      <td>Cardinals</td>\n",
       "      <td>91</td>\n",
       "      <td>71</td>\n",
       "      <td>3.82</td>\n",
       "      <td>1284</td>\n",
       "      <td>1399</td>\n",
       "      <td>0</td>\n",
       "      <td>210</td>\n",
       "      <td>1420</td>\n",
       "      <td>0.270</td>\n",
       "      <td>6</td>\n",
       "    </tr>\n",
       "  </tbody>\n",
       "</table>\n",
       "</div>"
      ],
      "text/plain": [
       "   Year       Team    W   L   ERA  Hits Allowed  SO_pitching  Champion   HR  \\\n",
       "0  2019    Dodgers  106  56  3.39          1201         1519         0  279   \n",
       "1  2019     Astros  107  55  3.66          1205         1671         0  288   \n",
       "2  2019       Rays   96  66  3.67          1274         1621         0  217   \n",
       "3  2019    Indians   93  69  3.79          1308         1508         0  223   \n",
       "4  2019  Cardinals   91  71  3.82          1284         1399         0  210   \n",
       "\n",
       "   SO_batting    AVG  Team ID  \n",
       "0        1356  0.250        9  \n",
       "1        1166  0.274        1  \n",
       "2        1493  0.240       21  \n",
       "3        1332  0.270       11  \n",
       "4        1420  0.270        6  "
      ]
     },
     "execution_count": 204,
     "metadata": {},
     "output_type": "execute_result"
    }
   ],
   "source": [
    "df_all.head()"
   ]
  },
  {
   "cell_type": "code",
   "execution_count": 243,
   "metadata": {
    "scrolled": true
   },
   "outputs": [
    {
     "data": {
      "text/plain": [
       "array(['Dodgers', 'Astros', 'Rays', 'Indians', 'Cardinals', 'Athletics',\n",
       "       'Cubs', 'Reds', 'Twins', 'Braves', 'Diamondbacks', 'Mets',\n",
       "       'Nationals', 'Yankees', 'Giants', 'Brewers', 'Phillies', 'Padres',\n",
       "       'Red Sox', 'Marlins', 'Blue Jays', 'White Sox', 'Mariners',\n",
       "       'Rangers', 'Angels', 'Pirates', 'Royals', 'Tigers', 'Rockies',\n",
       "       'Orioles', 'Astros', 'Dodgers', 'Cubs', 'Diamondbacks', 'Brewers',\n",
       "       'Rays', 'Braves', 'Red Sox', 'Indians', 'Yankees', 'Athletics',\n",
       "       'Cardinals', 'Giants', 'Pirates', 'Nationals', 'Mets', 'Mariners',\n",
       "       'Phillies', 'Angels', 'Rockies', 'Padres', 'Twins', 'Tigers',\n",
       "       'Reds', 'Marlins', 'White Sox', 'Blue Jays', 'Rangers', 'Royals',\n",
       "       'Orioles', 'Indians', 'Dodgers', 'Diamondbacks', 'Red Sox',\n",
       "       'Yankees', 'Nationals', 'Cubs', 'Rays', 'Brewers', 'Cardinals',\n",
       "       'Astros', 'Angels', 'Pirates', 'Blue Jays', 'Mariners', 'Giants',\n",
       "       'Rockies', 'Phillies', 'Twins', 'Royals', 'Athletics', 'Padres',\n",
       "       'Rangers', 'Braves', 'White Sox', 'Marlins', 'Orioles', 'Mets',\n",
       "       'Reds', 'Tigers', 'Cubs', 'Nationals', 'Mets', 'Giants', 'Dodgers',\n",
       "       'Blue Jays', 'Indians', 'Mariners', 'Red Sox', 'Marlins', 'Astros',\n",
       "       'Cardinals', 'Brewers', 'White Sox', 'Yankees', 'Rays', 'Royals',\n",
       "       'Orioles', 'Pirates', 'Tigers', 'Angels', 'Rangers', 'Padres',\n",
       "       'Braves', 'Athletics', 'Phillies', 'Reds', 'Rockies', 'Twins',\n",
       "       'Diamondbacks', 'Cardinals', 'Pirates', 'Cubs', 'Mets', 'Dodgers',\n",
       "       'Astros', 'Nationals', 'Indians', 'Giants', 'Royals', 'Rays',\n",
       "       'Blue Jays', 'Angels', 'White Sox', 'Yankees', 'Marlins',\n",
       "       'Diamondbacks', 'Orioles', 'Twins', 'Padres', 'Athletics',\n",
       "       'Mariners', 'Rangers', 'Brewers', 'Red Sox', 'Reds', 'Braves',\n",
       "       'Tigers', 'Phillies', 'Rockies', 'Nationals', 'Mariners',\n",
       "       'Athletics', 'Padres', 'Braves', 'Dodgers', 'Orioles', 'Pirates',\n",
       "       'Mets', 'Giants', 'Cardinals', 'Royals', 'Rays', 'Indians',\n",
       "       'Angels', 'Reds', 'Brewers', 'Yankees', 'Marlins', 'Phillies',\n",
       "       'Cubs', 'Blue Jays', 'Red Sox', 'Tigers', 'Astros', 'Diamondbacks',\n",
       "       'White Sox', 'Rangers', 'Twins', 'Rockies', 'Braves', 'Dodgers',\n",
       "       'Pirates', 'Reds', 'Cardinals', 'Royals', 'Athletics', 'Nationals',\n",
       "       'Tigers', 'Rangers', 'Marlins', 'Rays', 'Mets', 'Red Sox',\n",
       "       'Indians', 'Brewers', 'Diamondbacks', 'Yankees', 'Padres',\n",
       "       'White Sox', 'Cubs', 'Giants', 'Orioles', 'Angels', 'Blue Jays',\n",
       "       'Mariners', 'Phillies', 'Rockies', 'Twins', 'Astros', 'Rays',\n",
       "       'Nationals', 'Reds', 'Dodgers', 'Braves', 'Athletics', 'Giants',\n",
       "       'Cardinals', 'Mariners', 'Tigers', 'Yankees', 'Phillies',\n",
       "       'Orioles', 'Pirates', 'Diamondbacks', 'Padres', 'Angels',\n",
       "       'Rangers', 'White Sox', 'Mets', 'Marlins', 'Brewers', 'Royals',\n",
       "       'Cubs', 'Astros', 'Blue Jays', 'Red Sox', 'Twins', 'Indians',\n",
       "       'Rockies', 'Phillies', 'Giants', 'Padres', 'Braves', 'Dodgers',\n",
       "       'Angels', 'Nationals', 'Rays', 'Brewers', 'Athletics', 'Yankees',\n",
       "       'Cardinals', 'Rangers', 'Diamondbacks', 'Mariners', 'Marlins',\n",
       "       'Tigers', 'Pirates', 'White Sox', 'Reds', 'Mets', 'Red Sox',\n",
       "       'Indians', 'Blue Jays', 'Cubs', 'Rockies', 'Royals', 'Astros',\n",
       "       'Twins', 'Orioles', 'Giants', 'Padres', 'Braves', 'Cardinals',\n",
       "       'Athletics', 'Phillies', 'Mets', 'Rays', 'Rangers', 'Mariners',\n",
       "       'Twins', 'Dodgers', 'Reds', 'Angels', 'Yankees', 'Astros',\n",
       "       'Marlins', 'White Sox', 'Nationals', 'Rockies', 'Red Sox',\n",
       "       'Blue Jays', 'Cubs', 'Tigers', 'Indians', 'Brewers', 'Orioles',\n",
       "       'Diamondbacks', 'Royals', 'Pirates'], dtype=object)"
      ]
     },
     "execution_count": 243,
     "metadata": {},
     "output_type": "execute_result"
    }
   ],
   "source": [
    "label_encoder.inverse_transform(df_all['Team ID'])"
   ]
  },
  {
   "cell_type": "code",
   "execution_count": 255,
   "metadata": {},
   "outputs": [
    {
     "name": "stdout",
     "output_type": "stream",
     "text": [
      "(300, 2) (300, 1)\n"
     ]
    }
   ],
   "source": [
    "X = df_all[[\"ERA\", \"HR\"]]\n",
    "y = df_all[\"W\"].values.reshape(-1, 1)\n",
    "print(X.shape, y.shape)"
   ]
  },
  {
   "cell_type": "code",
   "execution_count": 256,
   "metadata": {},
   "outputs": [],
   "source": [
    "# Use train_test_split to create training and testing data\n",
    "\n",
    "### BEGIN SOLUTION\n",
    "\n",
    "X_train, X_test, y_train, y_test = train_test_split(X, y, random_state=42)\n",
    "\n",
    "### END SOLUTION"
   ]
  },
  {
   "cell_type": "code",
   "execution_count": 257,
   "metadata": {},
   "outputs": [],
   "source": [
    "# Create the model using LinearRegression\n",
    "\n",
    "### BEGIN SOLUTION\n",
    "from sklearn.linear_model import LinearRegression\n",
    "model = LinearRegression()\n",
    "### END SOLUTION"
   ]
  },
  {
   "cell_type": "code",
   "execution_count": 275,
   "metadata": {},
   "outputs": [
    {
     "name": "stdout",
     "output_type": "stream",
     "text": [
      "Training Score: 0.7540953375482264\n",
      "Testing Score: 0.7248942596255314\n",
      "Overall Score: 0.7464370924079533\n"
     ]
    },
    {
     "data": {
      "text/plain": [
       "array([109.13026433, 105.52803667,  94.86432145,  93.55857342,\n",
       "        91.09163163,  95.29047686,  92.76875884,  87.02676651,\n",
       "        98.83644806,  89.90918325,  84.71505946,  87.96272188,\n",
       "        85.79102213,  96.31473005,  74.51704844,  86.40434735,\n",
       "        78.86351468,  77.6277703 ,  80.18755688,  64.84258458,\n",
       "        78.83919331,  67.0523529 ,  73.8231454 ,  69.81760347,\n",
       "        68.82687188,  59.13411386,  58.80386999,  55.78905966,\n",
       "        61.01670505,  57.74926823, 103.31974858, 102.45231664,\n",
       "        87.84851618,  87.71612258,  93.9162054 ,  83.51273039,\n",
       "        87.20325587,  92.07474951,  92.89047198, 100.23652112,\n",
       "        93.60118896,  89.805658  ,  77.35071615,  79.98050638,\n",
       "        84.26912966,  80.62121971,  80.41120876,  81.52217326,\n",
       "        85.6555618 ,  81.7778665 ,  73.2310748 ,  72.17795327,\n",
       "        65.77547321,  70.3243367 ,  61.82016054,  68.14808998,\n",
       "        73.31482566,  68.64118229,  62.336094  ,  62.82463934,\n",
       "       100.88326165, 100.75086806,  95.30718451,  86.53515443,\n",
       "        96.94624315,  90.73399965,  90.63660789,  90.6442216 ,\n",
       "        89.87111468,  85.55510329,  89.7463348 ,  80.60905903,\n",
       "        74.89445481,  81.90571312,  77.92755931,  66.56835453,\n",
       "        75.83347693,  72.0805615 ,  76.25656559,  73.7896238 ,\n",
       "        79.11159421,  71.9207798 ,  79.00658873,  68.01262964,\n",
       "        70.01693398,  70.46741075,  73.3376668 ,  71.42620726,\n",
       "        67.76613663,  59.57242994, 101.70353108,  95.53696987,\n",
       "        96.65554808,  81.65604708,  90.18306437,  93.26333138,\n",
       "        86.67061476,  89.72349366,  87.50917837,  74.78638259,\n",
       "        84.9372311 ,  88.55775293,  83.61625564,  79.41286345,\n",
       "        80.89668735,  85.03768961,  74.66921643,  90.13442163,\n",
       "        75.3723197 ,  83.56909313,  74.71944568,  81.60285737,\n",
       "        74.89752156,  65.50000557,  72.43819348,  68.88312833,\n",
       "        64.39517456,  70.11739248,  66.42232003,  64.94610984,\n",
       "        96.38610764,  91.53290817,  93.73506278,  92.97718328,\n",
       "        94.27077063,  98.60962316,  89.87259491,  83.46250114,\n",
       "        81.81128181,  82.07152202,  86.20491056,  94.5219169 ,\n",
       "        83.88104282,  77.24571067,  87.55179391,  73.78803728,\n",
       "        78.6245291 ,  87.92465331,  78.55452544,  77.0083116 ,\n",
       "        75.43470964,  83.11100264,  77.62925053,  73.09561447,\n",
       "        74.3618137 ,  75.06491697,  64.0785716 ,  67.40691814,\n",
       "        63.3937625 ,  65.26873999,  96.95681732,  92.03816117,\n",
       "        92.60125714,  86.22616519,  86.28400816,  87.54259368,\n",
       "        98.17892079,  89.14665049,  84.57039889,  85.42112318,\n",
       "        81.43535566,  79.77652262,  82.11107082,  85.61897346,\n",
       "        87.35542386,  83.62989655,  84.97371316,  83.06986733,\n",
       "        78.64885046,  78.72646783,  81.44148915,  82.93292677,\n",
       "        74.77876888,  79.5026415 ,  78.30951266,  69.47509264,\n",
       "        74.20657897,  64.24142005,  65.10737177,  68.55595121,\n",
       "        98.4984842 ,  90.87242044,  93.9024582 ,  91.00788078,\n",
       "        85.66613597,  83.38181703,  92.29692116,  88.05852713,\n",
       "        89.90759673,  89.54235104,  76.12406571,  85.90966853,\n",
       "        80.01244147,  86.91562755,  85.33441188,  82.90247191,\n",
       "        77.45572162,  79.1571702 ,  78.72192086,  78.65191721,\n",
       "        82.19482167,  72.59945541,  84.44720553,  76.63090522,\n",
       "        79.36570093,  78.71282692,  71.2617723 ,  72.24034321,\n",
       "        69.05052375,  64.22471239,  97.43013523,  97.49559192,\n",
       "        94.24792949,  85.79852956,  89.39166328,  94.7212474 ,\n",
       "        77.8529024 ,  85.57181095,  83.18248652,  85.06655795,\n",
       "        95.71049877,  82.68484724,  90.22113294,  83.54318525,\n",
       "        82.25721161,  74.48352684,  84.04389127,  85.96296452,\n",
       "        87.58679574,  75.67972242,  75.20185754,  82.60574965,\n",
       "        70.66367451,  67.71432086,  67.94717296,  74.34510605,\n",
       "        68.01262964,  62.08040076,  62.45326016,  59.02910838,\n",
       "        97.28706119,  89.0933545 ,  80.64702131,  91.65620782,\n",
       "        82.11107082,  87.53804671,  87.20780284,  89.86498119,\n",
       "        90.68831737,  78.92886508,  94.50668948,  84.55369124,\n",
       "        91.63950017,  85.84727859,  74.53830306,  79.71265246,\n",
       "        81.02146723,  71.68634119,  77.71141487,  80.89668735,\n",
       "        69.27724236,  83.11861636,  75.15469503,  78.23496203,\n",
       "        72.44274045,  72.83082729,  67.62908978,  61.51423805,\n",
       "        61.05160059,  68.19831923,  92.40647361,  87.0647288 ,\n",
       "        85.1761104 ,  86.79994161,  80.56485697,  87.15302662,\n",
       "        80.63031366,  84.44107205,  81.9969714 ,  72.62684353,\n",
       "        78.67930532,  74.33590582,  84.19151229,  78.95477296,\n",
       "        85.38009416,  71.10347082,  77.59879567,  81.28932116,\n",
       "        76.42544123,  79.78572285,  84.48220736,  90.54228287,\n",
       "        74.41658993,  73.94633876,  70.22081145,  72.89628397,\n",
       "        65.66285402,  68.58333932,  56.95173365,  57.14197021])"
      ]
     },
     "execution_count": 275,
     "metadata": {},
     "output_type": "execute_result"
    }
   ],
   "source": [
    "# Fit the model to the training data and calculate the scores for the training and testing data\n",
    "\n",
    "### BEGIN SOLUTION\n",
    "model.fit(X_train, y_train)\n",
    "training_score = model.score(X_train, y_train)\n",
    "testing_score = model.score(X_test, y_test)\n",
    "\n",
    "### END SOLUTION \n",
    "\n",
    "print(f\"Training Score: {training_score}\")\n",
    "print(f\"Testing Score: {testing_score}\")\n",
    "\n",
    "a_score = model.score(X, y)\n",
    "print(f\"Overall Score: {a_score}\")\n",
    "\n",
    "model.predict(X)"
   ]
  },
  {
   "cell_type": "code",
   "execution_count": 259,
   "metadata": {
    "scrolled": true
   },
   "outputs": [
    {
     "data": {
      "text/plain": [
       "Text(0.5, 1.0, 'Residual Plot')"
      ]
     },
     "execution_count": 259,
     "metadata": {},
     "output_type": "execute_result"
    },
    {
     "data": {
      "image/png": "[encoded data removed]",
      "text/plain": [
       "<Figure size 432x288 with 1 Axes>"
      ]
     },
     "metadata": {
      "needs_background": "light"
     },
     "output_type": "display_data"
    }
   ],
   "source": [
    "# Plot the Residuals for the Training and Testing data\n",
    "\n",
    "### BEGIN SOLUTION\n",
    "plt.scatter(model.predict(X_train), model.predict(X_train) - y_train, c=\"blue\", label=\"Training Data\")\n",
    "plt.scatter(model.predict(X_test), model.predict(X_test) - y_test, c=\"orange\", label=\"Testing Data\")\n",
    "plt.legend()\n",
    "plt.hlines(y=0, xmin=y.min(), xmax=y.max())\n",
    "plt.title(\"Residual Plot\")\n",
    "### END "
   ]
  },
  {
   "cell_type": "code",
   "execution_count": 269,
   "metadata": {},
   "outputs": [],
   "source": [
    "#y_train = y_train.reshape(-1, 1)\n",
    "y_train = y_train.ravel()"
   ]
  },
  {
   "cell_type": "code",
   "execution_count": 270,
   "metadata": {},
   "outputs": [
    {
     "data": {
      "text/plain": [
       "0.9911111111111112"
      ]
     },
     "execution_count": 270,
     "metadata": {},
     "output_type": "execute_result"
    }
   ],
   "source": [
    "rf = RandomForestClassifier(n_estimators=200)\n",
    "rf = rf.fit(X_train, y_train )\n",
    "rf.score(X_train, y_train)"
   ]
  },
  {
   "cell_type": "code",
   "execution_count": 276,
   "metadata": {},
   "outputs": [
    {
     "name": "stderr",
     "output_type": "stream",
     "text": [
      "C:\\Users\\esjos\\Anaconda3\\lib\\site-packages\\ipykernel_launcher.py:2: DataConversionWarning: A column-vector y was passed when a 1d array was expected. Please change the shape of y to (n_samples,), for example using ravel().\n",
      "  \n"
     ]
    },
    {
     "data": {
      "text/plain": [
       "0.99"
      ]
     },
     "execution_count": 276,
     "metadata": {},
     "output_type": "execute_result"
    }
   ],
   "source": [
    "rf = RandomForestClassifier(n_estimators=200)\n",
    "rf = rf.fit(X, y)\n",
    "rf.score(X, y)"
   ]
  },
  {
   "cell_type": "code",
   "execution_count": null,
   "metadata": {},
   "outputs": [],
   "source": []
  }
 ],
 "metadata": {
  "kernelspec": {
   "display_name": "Python 3",
   "language": "python",
   "name": "python3"
  },
  "language_info": {
   "codemirror_mode": {
    "name": "ipython",
    "version": 3
   },
   "file_extension": ".py",
   "mimetype": "text/x-python",
   "name": "python",
   "nbconvert_exporter": "python",
   "pygments_lexer": "ipython3",
   "version": "3.7.3"
  }
 },
 "nbformat": 4,
 "nbformat_minor": 2
}
